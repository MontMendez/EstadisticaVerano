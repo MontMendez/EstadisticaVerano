{
  "nbformat": 4,
  "nbformat_minor": 0,
  "metadata": {
    "colab": {
      "provenance": [],
      "include_colab_link": true
    },
    "kernelspec": {
      "name": "python3",
      "display_name": "Python 3"
    },
    "language_info": {
      "name": "python"
    }
  },
  "cells": [
    {
      "cell_type": "markdown",
      "metadata": {
        "id": "view-in-github",
        "colab_type": "text"
      },
      "source": [
        "<a href=\"https://colab.research.google.com/github/MontMendez/EstadisticaVerano/blob/main/EjerciciosSeries.ipynb\" target=\"_parent\"><img src=\"https://colab.research.google.com/assets/colab-badge.svg\" alt=\"Open In Colab\"/></a>"
      ]
    },
    {
      "cell_type": "markdown",
      "source": [
        "## Operaciones con Series"
      ],
      "metadata": {
        "id": "P92zIggcxbwg"
      }
    },
    {
      "cell_type": "markdown",
      "source": [
        "Un grupo de estudiantes registró las horas que dedicaron a estudiar durante una semana. Los datos (en horas) son los siguientes:\n",
        "\n",
        "Datos: `0, 3, 3, 2, 4, 5, 1, 2, 1, 6, 0, 5, 2`\n",
        "\n",
        "Calcula la media del número de horas estudiadas.\n",
        "\n",
        "Calcula la varianza de los datos.\n",
        "\n",
        "Calcula la desviación estándar.\n",
        "\n",
        "¿La varianza y la desviación estándar corresponden a una muestra o a una población?"
      ],
      "metadata": {
        "id": "wDmgCOx_xmYK"
      }
    },
    {
      "cell_type": "code",
      "execution_count": null,
      "metadata": {
        "id": "utRBPnGYxYBS",
        "colab": {
          "base_uri": "https://localhost:8080/"
        },
        "outputId": "55a6787d-63b6-4be1-8283-d3935f4a423e"
      },
      "outputs": [
        {
          "output_type": "stream",
          "name": "stdout",
          "text": [
            "La media es:\n",
            "2.6153846153846154\n",
            "\n",
            "\n",
            "La varianza es:\n",
            "3.756410256410257\n",
            "\n",
            "\n",
            "La desviaciòn estàndar es:\n",
            "1.9381460874790262\n"
          ]
        }
      ],
      "source": [
        "datos=[0, 3, 3, 2, 4, 5, 1, 2, 1, 6, 0, 5, 2]\n",
        "import pandas as pd\n",
        "serie_datos= pd.Series(datos)\n",
        "print(\"La media es:\")\n",
        "print(serie_datos.mean())\n",
        "print(\"\\n\")\n",
        "print(\"La varianza es:\")\n",
        "print(serie_datos.var())\n",
        "print(\"\\n\")\n",
        "print(\"La desviaciòn estàndar es:\")\n",
        "print(serie_datos.std())"
      ]
    },
    {
      "cell_type": "markdown",
      "source": [
        "Usando los datos del ejercicio anterior, realiza lo siguiente:\n",
        "\n",
        "Sumale 2 a cada uno de los elementos\n",
        "\n",
        "Multiplica por 3 cada uno de los elementos\n",
        "\n",
        "Eleva al cuadrado cada uno de los elementos\n",
        "\n"
      ],
      "metadata": {
        "id": "KJ9u-DhK3uMO"
      }
    },
    {
      "cell_type": "code",
      "source": [
        "print(\"Sumale 2 a cada uno de los elementos\")\n",
        "serie_datos+2"
      ],
      "metadata": {
        "colab": {
          "base_uri": "https://localhost:8080/",
          "height": 509
        },
        "id": "gIJ9CTYRrYBb",
        "outputId": "8bd5ace9-c43a-4891-cfad-474b0198ce40"
      },
      "execution_count": null,
      "outputs": [
        {
          "output_type": "stream",
          "name": "stdout",
          "text": [
            "Sumale 2 a cada uno de los elementos\n"
          ]
        },
        {
          "output_type": "execute_result",
          "data": {
            "text/plain": [
              "0     2\n",
              "1     5\n",
              "2     5\n",
              "3     4\n",
              "4     6\n",
              "5     7\n",
              "6     3\n",
              "7     4\n",
              "8     3\n",
              "9     8\n",
              "10    2\n",
              "11    7\n",
              "12    4\n",
              "dtype: int64"
            ],
            "text/html": [
              "<div>\n",
              "<style scoped>\n",
              "    .dataframe tbody tr th:only-of-type {\n",
              "        vertical-align: middle;\n",
              "    }\n",
              "\n",
              "    .dataframe tbody tr th {\n",
              "        vertical-align: top;\n",
              "    }\n",
              "\n",
              "    .dataframe thead th {\n",
              "        text-align: right;\n",
              "    }\n",
              "</style>\n",
              "<table border=\"1\" class=\"dataframe\">\n",
              "  <thead>\n",
              "    <tr style=\"text-align: right;\">\n",
              "      <th></th>\n",
              "      <th>0</th>\n",
              "    </tr>\n",
              "  </thead>\n",
              "  <tbody>\n",
              "    <tr>\n",
              "      <th>0</th>\n",
              "      <td>2</td>\n",
              "    </tr>\n",
              "    <tr>\n",
              "      <th>1</th>\n",
              "      <td>5</td>\n",
              "    </tr>\n",
              "    <tr>\n",
              "      <th>2</th>\n",
              "      <td>5</td>\n",
              "    </tr>\n",
              "    <tr>\n",
              "      <th>3</th>\n",
              "      <td>4</td>\n",
              "    </tr>\n",
              "    <tr>\n",
              "      <th>4</th>\n",
              "      <td>6</td>\n",
              "    </tr>\n",
              "    <tr>\n",
              "      <th>5</th>\n",
              "      <td>7</td>\n",
              "    </tr>\n",
              "    <tr>\n",
              "      <th>6</th>\n",
              "      <td>3</td>\n",
              "    </tr>\n",
              "    <tr>\n",
              "      <th>7</th>\n",
              "      <td>4</td>\n",
              "    </tr>\n",
              "    <tr>\n",
              "      <th>8</th>\n",
              "      <td>3</td>\n",
              "    </tr>\n",
              "    <tr>\n",
              "      <th>9</th>\n",
              "      <td>8</td>\n",
              "    </tr>\n",
              "    <tr>\n",
              "      <th>10</th>\n",
              "      <td>2</td>\n",
              "    </tr>\n",
              "    <tr>\n",
              "      <th>11</th>\n",
              "      <td>7</td>\n",
              "    </tr>\n",
              "    <tr>\n",
              "      <th>12</th>\n",
              "      <td>4</td>\n",
              "    </tr>\n",
              "  </tbody>\n",
              "</table>\n",
              "</div><br><label><b>dtype:</b> int64</label>"
            ]
          },
          "metadata": {},
          "execution_count": 9
        }
      ]
    },
    {
      "cell_type": "code",
      "source": [
        "print(\"Multiplica por 3 cada uno de los elementos\")\n",
        "serie_datos*3"
      ],
      "metadata": {
        "colab": {
          "base_uri": "https://localhost:8080/",
          "height": 509
        },
        "id": "S-gHQ6CzrXuD",
        "outputId": "982e4161-f9db-43ba-e0ff-024f4995f5ea"
      },
      "execution_count": null,
      "outputs": [
        {
          "output_type": "stream",
          "name": "stdout",
          "text": [
            "Multiplica por 3 cada uno de los elementos\n"
          ]
        },
        {
          "output_type": "execute_result",
          "data": {
            "text/plain": [
              "0      0\n",
              "1      9\n",
              "2      9\n",
              "3      6\n",
              "4     12\n",
              "5     15\n",
              "6      3\n",
              "7      6\n",
              "8      3\n",
              "9     18\n",
              "10     0\n",
              "11    15\n",
              "12     6\n",
              "dtype: int64"
            ],
            "text/html": [
              "<div>\n",
              "<style scoped>\n",
              "    .dataframe tbody tr th:only-of-type {\n",
              "        vertical-align: middle;\n",
              "    }\n",
              "\n",
              "    .dataframe tbody tr th {\n",
              "        vertical-align: top;\n",
              "    }\n",
              "\n",
              "    .dataframe thead th {\n",
              "        text-align: right;\n",
              "    }\n",
              "</style>\n",
              "<table border=\"1\" class=\"dataframe\">\n",
              "  <thead>\n",
              "    <tr style=\"text-align: right;\">\n",
              "      <th></th>\n",
              "      <th>0</th>\n",
              "    </tr>\n",
              "  </thead>\n",
              "  <tbody>\n",
              "    <tr>\n",
              "      <th>0</th>\n",
              "      <td>0</td>\n",
              "    </tr>\n",
              "    <tr>\n",
              "      <th>1</th>\n",
              "      <td>9</td>\n",
              "    </tr>\n",
              "    <tr>\n",
              "      <th>2</th>\n",
              "      <td>9</td>\n",
              "    </tr>\n",
              "    <tr>\n",
              "      <th>3</th>\n",
              "      <td>6</td>\n",
              "    </tr>\n",
              "    <tr>\n",
              "      <th>4</th>\n",
              "      <td>12</td>\n",
              "    </tr>\n",
              "    <tr>\n",
              "      <th>5</th>\n",
              "      <td>15</td>\n",
              "    </tr>\n",
              "    <tr>\n",
              "      <th>6</th>\n",
              "      <td>3</td>\n",
              "    </tr>\n",
              "    <tr>\n",
              "      <th>7</th>\n",
              "      <td>6</td>\n",
              "    </tr>\n",
              "    <tr>\n",
              "      <th>8</th>\n",
              "      <td>3</td>\n",
              "    </tr>\n",
              "    <tr>\n",
              "      <th>9</th>\n",
              "      <td>18</td>\n",
              "    </tr>\n",
              "    <tr>\n",
              "      <th>10</th>\n",
              "      <td>0</td>\n",
              "    </tr>\n",
              "    <tr>\n",
              "      <th>11</th>\n",
              "      <td>15</td>\n",
              "    </tr>\n",
              "    <tr>\n",
              "      <th>12</th>\n",
              "      <td>6</td>\n",
              "    </tr>\n",
              "  </tbody>\n",
              "</table>\n",
              "</div><br><label><b>dtype:</b> int64</label>"
            ]
          },
          "metadata": {},
          "execution_count": 10
        }
      ]
    },
    {
      "cell_type": "code",
      "source": [
        "print(\"Eleva al cuadrado cada uno de los elementos\")\n",
        "serie_datos**2"
      ],
      "metadata": {
        "colab": {
          "base_uri": "https://localhost:8080/",
          "height": 509
        },
        "id": "7eKDrGzgr3Sh",
        "outputId": "910ffeb1-a5ec-4141-9c81-d0345077f51d"
      },
      "execution_count": null,
      "outputs": [
        {
          "output_type": "stream",
          "name": "stdout",
          "text": [
            "Eleva al cuadrado cada uno de los elementos\n"
          ]
        },
        {
          "output_type": "execute_result",
          "data": {
            "text/plain": [
              "0      0\n",
              "1      9\n",
              "2      9\n",
              "3      4\n",
              "4     16\n",
              "5     25\n",
              "6      1\n",
              "7      4\n",
              "8      1\n",
              "9     36\n",
              "10     0\n",
              "11    25\n",
              "12     4\n",
              "dtype: int64"
            ],
            "text/html": [
              "<div>\n",
              "<style scoped>\n",
              "    .dataframe tbody tr th:only-of-type {\n",
              "        vertical-align: middle;\n",
              "    }\n",
              "\n",
              "    .dataframe tbody tr th {\n",
              "        vertical-align: top;\n",
              "    }\n",
              "\n",
              "    .dataframe thead th {\n",
              "        text-align: right;\n",
              "    }\n",
              "</style>\n",
              "<table border=\"1\" class=\"dataframe\">\n",
              "  <thead>\n",
              "    <tr style=\"text-align: right;\">\n",
              "      <th></th>\n",
              "      <th>0</th>\n",
              "    </tr>\n",
              "  </thead>\n",
              "  <tbody>\n",
              "    <tr>\n",
              "      <th>0</th>\n",
              "      <td>0</td>\n",
              "    </tr>\n",
              "    <tr>\n",
              "      <th>1</th>\n",
              "      <td>9</td>\n",
              "    </tr>\n",
              "    <tr>\n",
              "      <th>2</th>\n",
              "      <td>9</td>\n",
              "    </tr>\n",
              "    <tr>\n",
              "      <th>3</th>\n",
              "      <td>4</td>\n",
              "    </tr>\n",
              "    <tr>\n",
              "      <th>4</th>\n",
              "      <td>16</td>\n",
              "    </tr>\n",
              "    <tr>\n",
              "      <th>5</th>\n",
              "      <td>25</td>\n",
              "    </tr>\n",
              "    <tr>\n",
              "      <th>6</th>\n",
              "      <td>1</td>\n",
              "    </tr>\n",
              "    <tr>\n",
              "      <th>7</th>\n",
              "      <td>4</td>\n",
              "    </tr>\n",
              "    <tr>\n",
              "      <th>8</th>\n",
              "      <td>1</td>\n",
              "    </tr>\n",
              "    <tr>\n",
              "      <th>9</th>\n",
              "      <td>36</td>\n",
              "    </tr>\n",
              "    <tr>\n",
              "      <th>10</th>\n",
              "      <td>0</td>\n",
              "    </tr>\n",
              "    <tr>\n",
              "      <th>11</th>\n",
              "      <td>25</td>\n",
              "    </tr>\n",
              "    <tr>\n",
              "      <th>12</th>\n",
              "      <td>4</td>\n",
              "    </tr>\n",
              "  </tbody>\n",
              "</table>\n",
              "</div><br><label><b>dtype:</b> int64</label>"
            ]
          },
          "metadata": {},
          "execution_count": 11
        }
      ]
    },
    {
      "cell_type": "markdown",
      "source": [
        "Usando los datos del primer ejercicio, realiza lo siguiente:\n",
        "\n",
        "Resta 5 a cada uno de los elementos y realiza la suma de los elementos resultantes\n",
        "\n",
        "Multiplica por 2 cada uno de los elementos y realiza la suma\n",
        "\n",
        "Eleva al cuadrado cada uno de los elementos y después realiza la suma de los elementos resultantes\n",
        "\n",
        "Realiza la suma de los elementos y después eleva al cuadrado"
      ],
      "metadata": {
        "id": "apcmieWx4D7e"
      }
    },
    {
      "cell_type": "code",
      "source": [
        "print(\"Resta 5 a cada uno de los elementos\")\n",
        "print(serie_datos-5)\n",
        "print(\"realiza la suma de los elementos resultantes\")\n",
        "print((serie_datos-5).sum())\n",
        "print(\"\\n\")\n",
        "print(\"Multiplica por 2 cada uno de los elementos\")\n",
        "print(serie_datos*2)\n",
        "print(\"realiza la suma\")\n",
        "print((serie_datos*2).sum())\n",
        "print(\"Eleva al cuadrado cada uno de los elementos\")\n",
        "print(serie_datos**2)\n",
        "print(\"después realiza la suma de los elementos resultantes\")\n",
        "print((serie_datos**2).sum())\n",
        "print(\"Realiza la suma de los elementos\")\n",
        "print(serie_datos.sum())\n",
        "print(\"después eleva al cuadrado\")\n",
        "print((serie_datos.sum()**2))"
      ],
      "metadata": {
        "id": "9LFCPshT4wF7",
        "colab": {
          "base_uri": "https://localhost:8080/"
        },
        "outputId": "1aec277c-300e-4d75-852a-3c5346649581"
      },
      "execution_count": null,
      "outputs": [
        {
          "output_type": "stream",
          "name": "stdout",
          "text": [
            "Resta 5 a cada uno de los elementos\n",
            "0    -5\n",
            "1    -2\n",
            "2    -2\n",
            "3    -3\n",
            "4    -1\n",
            "5     0\n",
            "6    -4\n",
            "7    -3\n",
            "8    -4\n",
            "9     1\n",
            "10   -5\n",
            "11    0\n",
            "12   -3\n",
            "dtype: int64\n",
            "realiza la suma de los elementos resultantes\n",
            "-31\n",
            "\n",
            "\n",
            "Multiplica por 2 cada uno de los elementos\n",
            "0      0\n",
            "1      6\n",
            "2      6\n",
            "3      4\n",
            "4      8\n",
            "5     10\n",
            "6      2\n",
            "7      4\n",
            "8      2\n",
            "9     12\n",
            "10     0\n",
            "11    10\n",
            "12     4\n",
            "dtype: int64\n",
            "realiza la suma\n",
            "68\n",
            "Eleva al cuadrado cada uno de los elementos\n",
            "0      0\n",
            "1      9\n",
            "2      9\n",
            "3      4\n",
            "4     16\n",
            "5     25\n",
            "6      1\n",
            "7      4\n",
            "8      1\n",
            "9     36\n",
            "10     0\n",
            "11    25\n",
            "12     4\n",
            "dtype: int64\n",
            "después realiza la suma de los elementos resultantes\n",
            "134\n",
            "Realiza la suma de los elementos\n",
            "34\n",
            "después eleva al cuadrado\n",
            "1156\n"
          ]
        }
      ]
    }
  ]
}