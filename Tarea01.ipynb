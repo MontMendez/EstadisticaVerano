{
  "nbformat": 4,
  "nbformat_minor": 0,
  "metadata": {
    "colab": {
      "provenance": [],
      "include_colab_link": true
    },
    "kernelspec": {
      "name": "python3",
      "display_name": "Python 3"
    },
    "language_info": {
      "name": "python"
    }
  },
  "cells": [
    {
      "cell_type": "markdown",
      "metadata": {
        "id": "view-in-github",
        "colab_type": "text"
      },
      "source": [
        "<a href=\"https://colab.research.google.com/github/MontMendez/EstadisticaVerano/blob/main/Tarea01.ipynb\" target=\"_parent\"><img src=\"https://colab.research.google.com/assets/colab-badge.svg\" alt=\"Open In Colab\"/></a>"
      ]
    },
    {
      "cell_type": "markdown",
      "source": [
        "# Tipos de datos: flotantes (float)\n",
        "Declara dos variables de tipo flotante que tengan por nombre `a` y `b`. Después muéstralas usando la función `print`.\n",
        "\n",
        "\n"
      ],
      "metadata": {
        "id": "RWt28y6BDzzT"
      }
    },
    {
      "cell_type": "code",
      "execution_count": null,
      "metadata": {
        "id": "Dh2HcNCMDxmY"
      },
      "outputs": [],
      "source": [
        "a=17.05"
      ]
    },
    {
      "cell_type": "code",
      "source": [
        "b=12.02"
      ],
      "metadata": {
        "id": "0vLc0_xlvb-2"
      },
      "execution_count": null,
      "outputs": []
    },
    {
      "cell_type": "code",
      "source": [
        "print(a)"
      ],
      "metadata": {
        "colab": {
          "base_uri": "https://localhost:8080/"
        },
        "id": "PM94AZS9vjb9",
        "outputId": "121300eb-9269-45f1-fc10-4cb5bde388df"
      },
      "execution_count": null,
      "outputs": [
        {
          "output_type": "stream",
          "name": "stdout",
          "text": [
            "17.05\n"
          ]
        }
      ]
    },
    {
      "cell_type": "code",
      "source": [
        "print(b)"
      ],
      "metadata": {
        "colab": {
          "base_uri": "https://localhost:8080/"
        },
        "id": "nZSJHk-Avmm1",
        "outputId": "da79ccf6-54f2-4f54-ff1d-81765094f6d8"
      },
      "execution_count": null,
      "outputs": [
        {
          "output_type": "stream",
          "name": "stdout",
          "text": [
            "12.02\n"
          ]
        }
      ]
    },
    {
      "cell_type": "markdown",
      "source": [
        "Declara una variable `c` cuyo valor sea $\\frac{b^2}{4a}-3$, muéstralo en pantalla usando la función `print`.\n",
        "\n"
      ],
      "metadata": {
        "id": "kOWRNQD9KZ3T"
      }
    },
    {
      "cell_type": "code",
      "source": [
        "c=b**2/(4*a)-3"
      ],
      "metadata": {
        "id": "4Kd2Pth5LPux"
      },
      "execution_count": null,
      "outputs": []
    },
    {
      "cell_type": "code",
      "source": [
        "print(c)"
      ],
      "metadata": {
        "colab": {
          "base_uri": "https://localhost:8080/"
        },
        "id": "y_biy1OfwiJm",
        "outputId": "7d19cf1c-7830-4fd6-97f6-ec2c96a827cc"
      },
      "execution_count": null,
      "outputs": [
        {
          "output_type": "stream",
          "name": "stdout",
          "text": [
            "-0.8815190615835777\n"
          ]
        }
      ]
    },
    {
      "cell_type": "markdown",
      "source": [
        "Declara las variables:\n",
        "$$x_1 = \\frac{-b + \\sqrt{b^2 - 4ac}}{2a}$$ <br>\n",
        "$$x_2 = \\frac{-b - \\sqrt{b^2 - 4ac}}{2a}$$ <br>\n",
        "Muéstralas en pantalla usando la función `print`."
      ],
      "metadata": {
        "id": "YmFfmkiOLXbk"
      }
    },
    {
      "cell_type": "code",
      "source": [
        "x_1=(-b+(b**2-4*a*c)**0.5)/(2*a)"
      ],
      "metadata": {
        "id": "QSFiwnIJLfDL"
      },
      "execution_count": null,
      "outputs": []
    },
    {
      "cell_type": "code",
      "source": [
        "x_2=(-b-(b**2-4*a*c)**0.5)/(2*a)"
      ],
      "metadata": {
        "id": "LFJ3ISV3ytIl"
      },
      "execution_count": null,
      "outputs": []
    },
    {
      "cell_type": "code",
      "source": [
        "print(x_1)"
      ],
      "metadata": {
        "colab": {
          "base_uri": "https://localhost:8080/"
        },
        "id": "wipnYet_zAuD",
        "outputId": "80dd8af8-4d94-4ad4-b60d-cdc533014fff"
      },
      "execution_count": null,
      "outputs": [
        {
          "output_type": "stream",
          "name": "stdout",
          "text": [
            "0.06697494535926628\n"
          ]
        }
      ]
    },
    {
      "cell_type": "code",
      "source": [
        "print(x_2)"
      ],
      "metadata": {
        "colab": {
          "base_uri": "https://localhost:8080/"
        },
        "id": "ywgtO9pYzTmz",
        "outputId": "94277f8a-8a29-475a-95f8-1d6d1e43a03d"
      },
      "execution_count": null,
      "outputs": [
        {
          "output_type": "stream",
          "name": "stdout",
          "text": [
            "-0.771960282602668\n"
          ]
        }
      ]
    },
    {
      "cell_type": "markdown",
      "source": [
        "Usa `type` para saber qué tipo de dato es $x_1$"
      ],
      "metadata": {
        "id": "QjWmahAlMEe_"
      }
    },
    {
      "cell_type": "code",
      "source": [
        "type(x_1)"
      ],
      "metadata": {
        "id": "X671SWpZMM7o",
        "colab": {
          "base_uri": "https://localhost:8080/"
        },
        "outputId": "8485bd29-8061-47e9-917e-ee746196fff0"
      },
      "execution_count": null,
      "outputs": [
        {
          "output_type": "execute_result",
          "data": {
            "text/plain": [
              "float"
            ]
          },
          "metadata": {},
          "execution_count": 11
        }
      ]
    },
    {
      "cell_type": "markdown",
      "source": [
        "# Tipos de datos: boleanos (bool)\n",
        "\n",
        "Declara una variable llamada `mayor_que` cuyo valor sea `a > b`. Imprime en pantalla `a`, `b` y `mayor_que`. ¿Qué crees que signifique el valor de `mayor_que`?"
      ],
      "metadata": {
        "id": "7y-4H2ELMuLD"
      }
    },
    {
      "cell_type": "code",
      "source": [
        "mayor_que=a>b"
      ],
      "metadata": {
        "id": "o3CKfK3cNfXp"
      },
      "execution_count": null,
      "outputs": []
    },
    {
      "cell_type": "code",
      "source": [
        "print(a)"
      ],
      "metadata": {
        "colab": {
          "base_uri": "https://localhost:8080/"
        },
        "id": "0V2irly_0d6k",
        "outputId": "b5b54bcb-e446-4962-e6fb-0a7d46046f53"
      },
      "execution_count": null,
      "outputs": [
        {
          "output_type": "stream",
          "name": "stdout",
          "text": [
            "17.05\n"
          ]
        }
      ]
    },
    {
      "cell_type": "code",
      "source": [
        "print(b)"
      ],
      "metadata": {
        "colab": {
          "base_uri": "https://localhost:8080/"
        },
        "id": "ZhfYsZOb0hlq",
        "outputId": "a4dd7636-9c1f-46d1-d24a-c0223cd9428a"
      },
      "execution_count": null,
      "outputs": [
        {
          "output_type": "stream",
          "name": "stdout",
          "text": [
            "12.02\n"
          ]
        }
      ]
    },
    {
      "cell_type": "code",
      "source": [
        "print(mayor_que)"
      ],
      "metadata": {
        "colab": {
          "base_uri": "https://localhost:8080/"
        },
        "id": "8sYD2waY0msy",
        "outputId": "27d7b7ce-e970-40d0-b3b2-5aa50aef514d"
      },
      "execution_count": null,
      "outputs": [
        {
          "output_type": "stream",
          "name": "stdout",
          "text": [
            "True\n"
          ]
        }
      ]
    },
    {
      "cell_type": "markdown",
      "source": [
        "Declara una variable llamada `mayor_o_igual_que` cuyo valor sea `a >= b`. Imprime en pantalla `a`, `b` y `mayor_o_igual_que`. ¿Qué crees que signifique el valor de `mayor_o_igual_que`?"
      ],
      "metadata": {
        "id": "BAczf10jZ4ID"
      }
    },
    {
      "cell_type": "code",
      "source": [
        "mayor_o_igual_que=a>=b"
      ],
      "metadata": {
        "id": "ZnPuv1MsZ4cb"
      },
      "execution_count": null,
      "outputs": []
    },
    {
      "cell_type": "code",
      "source": [
        "print(a)"
      ],
      "metadata": {
        "colab": {
          "base_uri": "https://localhost:8080/"
        },
        "id": "I2cl9CM515w7",
        "outputId": "f144fa9c-3ec7-454e-991f-b12781259049"
      },
      "execution_count": null,
      "outputs": [
        {
          "output_type": "stream",
          "name": "stdout",
          "text": [
            "17.05\n"
          ]
        }
      ]
    },
    {
      "cell_type": "code",
      "source": [
        "print(b)"
      ],
      "metadata": {
        "colab": {
          "base_uri": "https://localhost:8080/"
        },
        "id": "nna5Z7VS18mi",
        "outputId": "74804bae-c2bd-43db-d4ca-edafb6d9fbeb"
      },
      "execution_count": null,
      "outputs": [
        {
          "output_type": "stream",
          "name": "stdout",
          "text": [
            "12.02\n"
          ]
        }
      ]
    },
    {
      "cell_type": "code",
      "source": [
        "print(mayor_o_igual_que)"
      ],
      "metadata": {
        "colab": {
          "base_uri": "https://localhost:8080/"
        },
        "id": "It7S1YTd1_Bi",
        "outputId": "b90148ed-34d1-4d85-b939-bad284df6798"
      },
      "execution_count": null,
      "outputs": [
        {
          "output_type": "stream",
          "name": "stdout",
          "text": [
            "True\n"
          ]
        }
      ]
    },
    {
      "cell_type": "markdown",
      "source": [
        "Declara una variable con el nombre de `es_igual` cuyo valor sea `a == b`. Imprime en pantalla `a`, `b`, y `es_igual` ¿Qué crees que signifique el resultado de `es_igual`?"
      ],
      "metadata": {
        "id": "OWfchV0UNizG"
      }
    },
    {
      "cell_type": "code",
      "source": [
        "es_igual=a==b"
      ],
      "metadata": {
        "id": "A5eewm6yOQn-"
      },
      "execution_count": null,
      "outputs": []
    },
    {
      "cell_type": "code",
      "source": [
        "print(a)"
      ],
      "metadata": {
        "colab": {
          "base_uri": "https://localhost:8080/"
        },
        "id": "orKUH-7q2Ldi",
        "outputId": "a3879cf7-8247-48f5-ef81-88a2eaa9c245"
      },
      "execution_count": null,
      "outputs": [
        {
          "output_type": "stream",
          "name": "stdout",
          "text": [
            "17.05\n"
          ]
        }
      ]
    },
    {
      "cell_type": "code",
      "source": [
        "print(b)"
      ],
      "metadata": {
        "colab": {
          "base_uri": "https://localhost:8080/"
        },
        "id": "vRdYbU1u2OKy",
        "outputId": "09730017-59a1-4fb0-c4fd-d0df53672227"
      },
      "execution_count": null,
      "outputs": [
        {
          "output_type": "stream",
          "name": "stdout",
          "text": [
            "12.02\n"
          ]
        }
      ]
    },
    {
      "cell_type": "code",
      "source": [
        "print(es_igual)"
      ],
      "metadata": {
        "colab": {
          "base_uri": "https://localhost:8080/"
        },
        "id": "l1VYIalT2RRK",
        "outputId": "49b020fe-a0dd-4bca-cda0-fc79365b3981"
      },
      "execution_count": null,
      "outputs": [
        {
          "output_type": "stream",
          "name": "stdout",
          "text": [
            "False\n"
          ]
        }
      ]
    },
    {
      "cell_type": "markdown",
      "source": [
        "Declara una variable con el nombre de `es_desigual` cuyo valor sea `a != b`. Imprime en pantalla `a`, `b`, y `es_desigual` ¿Qué crees que signifique el resultado de `es_desigual`?"
      ],
      "metadata": {
        "id": "BlGpY3C-aID6"
      }
    },
    {
      "cell_type": "code",
      "source": [
        "es_desigual=a!=b"
      ],
      "metadata": {
        "id": "1iQgMlt9aIPp"
      },
      "execution_count": null,
      "outputs": []
    },
    {
      "cell_type": "code",
      "source": [
        "print(a)"
      ],
      "metadata": {
        "colab": {
          "base_uri": "https://localhost:8080/"
        },
        "id": "GFgzveBM2dfp",
        "outputId": "f5a23267-6ca0-4474-c374-775ea284a9ec"
      },
      "execution_count": null,
      "outputs": [
        {
          "output_type": "stream",
          "name": "stdout",
          "text": [
            "17.05\n"
          ]
        }
      ]
    },
    {
      "cell_type": "code",
      "source": [
        "print(b)"
      ],
      "metadata": {
        "colab": {
          "base_uri": "https://localhost:8080/"
        },
        "id": "Wm3kZZs52gsK",
        "outputId": "6cdae22a-9d26-485c-8765-2adf1d5f6845"
      },
      "execution_count": null,
      "outputs": [
        {
          "output_type": "stream",
          "name": "stdout",
          "text": [
            "12.02\n"
          ]
        }
      ]
    },
    {
      "cell_type": "code",
      "source": [
        "print(es_desigual)"
      ],
      "metadata": {
        "colab": {
          "base_uri": "https://localhost:8080/"
        },
        "id": "TDRFAV2Z2iuS",
        "outputId": "4a2c6fcc-550d-4b9b-96fd-e0c8e1550737"
      },
      "execution_count": null,
      "outputs": [
        {
          "output_type": "stream",
          "name": "stdout",
          "text": [
            "True\n"
          ]
        }
      ]
    },
    {
      "cell_type": "markdown",
      "source": [
        "Declara una variable llamada `verdadero` cuyo valor sea `True` y otra variable llamada `falso` cuyo valor sea `False`. Imprime ambos valores en pantalla. Además, usando la función `type`, obtén el tipo de dato que es `verdader` y `falso`."
      ],
      "metadata": {
        "id": "7EnSab2UOX_v"
      }
    },
    {
      "cell_type": "code",
      "source": [
        "verdadero=True"
      ],
      "metadata": {
        "id": "EgRwz_eqZoc8"
      },
      "execution_count": null,
      "outputs": []
    },
    {
      "cell_type": "code",
      "source": [
        "falso=False"
      ],
      "metadata": {
        "id": "QJrUliLp2uZy"
      },
      "execution_count": null,
      "outputs": []
    },
    {
      "cell_type": "code",
      "source": [
        "print(verdadero)"
      ],
      "metadata": {
        "colab": {
          "base_uri": "https://localhost:8080/"
        },
        "id": "BTkAgcSL27tC",
        "outputId": "d4ea5ea9-ea6e-412f-c000-5bf744859b05"
      },
      "execution_count": null,
      "outputs": [
        {
          "output_type": "stream",
          "name": "stdout",
          "text": [
            "True\n"
          ]
        }
      ]
    },
    {
      "cell_type": "code",
      "source": [
        "print(falso)"
      ],
      "metadata": {
        "colab": {
          "base_uri": "https://localhost:8080/"
        },
        "id": "qa3734M23DgB",
        "outputId": "b319b58d-3965-4571-f292-9f487bed8c2f"
      },
      "execution_count": null,
      "outputs": [
        {
          "output_type": "stream",
          "name": "stdout",
          "text": [
            "False\n"
          ]
        }
      ]
    },
    {
      "cell_type": "code",
      "source": [
        "type(verdadero)"
      ],
      "metadata": {
        "colab": {
          "base_uri": "https://localhost:8080/"
        },
        "id": "TDzBaMyY3HrS",
        "outputId": "db96e0da-1c0d-4918-9d72-de71bed17094"
      },
      "execution_count": null,
      "outputs": [
        {
          "output_type": "execute_result",
          "data": {
            "text/plain": [
              "bool"
            ]
          },
          "metadata": {},
          "execution_count": 33
        }
      ]
    },
    {
      "cell_type": "code",
      "source": [
        "type(falso)"
      ],
      "metadata": {
        "id": "k1pCAYOi3siB",
        "outputId": "35244437-541f-4531-b822-f8a7284ca13b",
        "colab": {
          "base_uri": "https://localhost:8080/"
        }
      },
      "execution_count": null,
      "outputs": [
        {
          "output_type": "execute_result",
          "data": {
            "text/plain": [
              "bool"
            ]
          },
          "metadata": {},
          "execution_count": 34
        }
      ]
    },
    {
      "cell_type": "markdown",
      "source": [
        "# Tipo de datos: cadena de caractéres (strings)\n",
        "\n",
        "Declara una variable `nombre` cuyo valor es tu nombre completo con apellidos. Ejemplo: <br><br>\n",
        "```nombre = 'Faustino Perez Díaz'```\n",
        "<br><br>\n",
        "Mediante la función `print` imprime las iniciales de tu nombre tomadas de la variable `nombre`."
      ],
      "metadata": {
        "id": "WJeaF8CVaoxb"
      }
    },
    {
      "cell_type": "code",
      "source": [
        "nombre=\"Corina Montserrat Juárez Méndez\""
      ],
      "metadata": {
        "id": "iJtLISzzGj_h"
      },
      "execution_count": null,
      "outputs": []
    },
    {
      "cell_type": "code",
      "source": [
        "print(nombre[0],nombre[7],nombre[18],nombre[25])"
      ],
      "metadata": {
        "colab": {
          "base_uri": "https://localhost:8080/"
        },
        "id": "4Xj9ObJsERMX",
        "outputId": "0d9031fb-5db1-4807-e6c9-887c42171d41"
      },
      "execution_count": null,
      "outputs": [
        {
          "output_type": "stream",
          "name": "stdout",
          "text": [
            "C M J M\n"
          ]
        }
      ]
    },
    {
      "cell_type": "markdown",
      "source": [
        "Mediante `print` imprime sólo tu primer apellido utilizando slicing en la variable `nombre`. Recuerda que slicing es: `lista[inicio:fin:paso]`."
      ],
      "metadata": {
        "id": "QxAiswQ7GlHe"
      }
    },
    {
      "cell_type": "code",
      "source": [
        "print(nombre[17:24])"
      ],
      "metadata": {
        "id": "gqvvAvLmHBxh",
        "colab": {
          "base_uri": "https://localhost:8080/"
        },
        "outputId": "7224e0bc-ee98-4fdd-f6d6-76683da59d3f"
      },
      "execution_count": null,
      "outputs": [
        {
          "output_type": "stream",
          "name": "stdout",
          "text": [
            " Juárez\n"
          ]
        }
      ]
    },
    {
      "cell_type": "markdown",
      "source": [
        "Aplica el método `.upper()` a la variable `nombre` e imprime el resultado."
      ],
      "metadata": {
        "id": "JO-uttyYHCk4"
      }
    },
    {
      "cell_type": "code",
      "source": [
        "nombre.upper()"
      ],
      "metadata": {
        "id": "RcOhyHYUHgyZ",
        "colab": {
          "base_uri": "https://localhost:8080/",
          "height": 35
        },
        "outputId": "e2635aa7-ebcf-46bb-b836-e8c074b06020"
      },
      "execution_count": null,
      "outputs": [
        {
          "output_type": "execute_result",
          "data": {
            "text/plain": [
              "'CORINA MONTSERRAT JUÁREZ MÉNDEZ'"
            ],
            "application/vnd.google.colaboratory.intrinsic+json": {
              "type": "string"
            }
          },
          "metadata": {},
          "execution_count": 47
        }
      ]
    }
  ]
}